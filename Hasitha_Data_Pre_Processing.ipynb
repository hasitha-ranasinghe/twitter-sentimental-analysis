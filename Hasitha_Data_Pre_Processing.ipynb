{
 "cells": [
  {
   "cell_type": "code",
   "execution_count": 4,
   "metadata": {},
   "outputs": [
    {
     "name": "stdout",
     "output_type": "stream",
     "text": [
      "Data imported successful!\n",
      "\n",
      "Data pre-processing successful!\n"
     ]
    }
   ],
   "source": [
    "#general:\n",
    "import tweepy           \n",
    "import pandas as pd     \n",
    "import numpy as np  \n",
    "\n",
    "#for text preprocessing\n",
    "import preprocessor as p\n",
    "import re\n",
    "\n",
    "#Import data (read csv files)\n",
    "dfBitcoin = pd.read_csv('Hasitha_Raw_data/bitcoin.csv', nrows=60000)\n",
    "dfEthereum = pd.read_csv('Hasitha_Raw_data/ethereum.csv', nrows=60000)\n",
    "\n",
    "print(\"Data imported successful!\")\n",
    "\n",
    "\n",
    "#data pre-processing\n",
    "def clean_tweet(tweet):\n",
    "    '''\n",
    "    Utility function to clean the text in a tweet by removing \n",
    "    links and special characters using regex.\n",
    "    '''\n",
    "    return ' '.join(re.sub(\"(@[A-Za-z0-9]+)|([^0-9A-Za-z \\t])|(\\w+:\\/\\/\\S+)\", \" \", p.clean(tweet)).split())\n",
    "\n",
    "#create a column with the result of the analysis:\n",
    "dfBitcoin['clean_text'] = np.array([ clean_tweet(tweet) for tweet in dfBitcoin['tweet_text'] ])\n",
    "dfEthereum['clean_text'] = np.array([ clean_tweet(tweet) for tweet in dfEthereum['tweet_text'] ])\n",
    "\n",
    "#Export data\n",
    "dfBitcoin.to_csv('Hasitha_Pre_Processed_Data/bitcoin_preprocessed_data.csv')\n",
    "dfEthereum.to_csv('Hasitha_Pre_Processed_Data/ethereum_preprocessed_data.csv')\n",
    "\n",
    "print('\\nData pre-processing successful!')"
   ]
  },
  {
   "cell_type": "code",
   "execution_count": null,
   "metadata": {},
   "outputs": [],
   "source": []
  }
 ],
 "metadata": {
  "kernelspec": {
   "display_name": "Python 3",
   "language": "python",
   "name": "python3"
  },
  "language_info": {
   "codemirror_mode": {
    "name": "ipython",
    "version": 3
   },
   "file_extension": ".py",
   "mimetype": "text/x-python",
   "name": "python",
   "nbconvert_exporter": "python",
   "pygments_lexer": "ipython3",
   "version": "3.6.5"
  }
 },
 "nbformat": 4,
 "nbformat_minor": 2
}
