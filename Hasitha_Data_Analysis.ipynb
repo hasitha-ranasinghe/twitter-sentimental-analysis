{
 "cells": [
  {
   "cell_type": "code",
   "execution_count": 6,
   "metadata": {},
   "outputs": [
    {
     "name": "stdout",
     "output_type": "stream",
     "text": [
      "Data imported successful!\n",
      "\n",
      "Data analysis process successful!\n"
     ]
    }
   ],
   "source": [
    "#general:\n",
    "import tweepy           \n",
    "import pandas as pd     \n",
    "import numpy as np  \n",
    "\n",
    "#for sentiment analysis\n",
    "from textblob import TextBlob\n",
    "\n",
    "#Import pre-processed data (read csv files)\n",
    "dfBitcoin = pd.read_csv('Hasitha_Pre_Processed_Data/bitcoin_preprocessed_data.csv', nrows=60000)\n",
    "dfEthereum = pd.read_csv('Hasitha_Pre_Processed_Data/ethereum_preprocessed_data.csv', nrows=60000)\n",
    "\n",
    "print(\"Data imported successful!\")\n",
    "\n",
    "#sentimental analysis\n",
    "def analize_sentiment(tweet):\n",
    "    '''\n",
    "    Utility function to classify the polarity of a tweet\n",
    "    using textblob.\n",
    "    '''\n",
    "    analysis = TextBlob(tweet)\n",
    "    if analysis.sentiment.polarity > 0:\n",
    "        return 1\n",
    "    elif analysis.sentiment.polarity == 0:\n",
    "        return 0\n",
    "    else:\n",
    "        return -1\n",
    "\n",
    "#create a column with the result of the analysis:\n",
    "dfBitcoin['sentiment_analysis'] = np.array([ analize_sentiment(tweet) for tweet in dfBitcoin['clean_text'] ])\n",
    "dfEthereum['sentiment_analysis'] = np.array([ analize_sentiment(tweet) for tweet in dfEthereum['clean_text'] ])\n",
    "\n",
    "#Export data with new sentiment_analysis column\n",
    "dfBitcoin.to_csv('Hasitha_Pre_Processed_Data/bitcoin_preprocessed_data.csv')\n",
    "dfEthereum.to_csv('Hasitha_Pre_Processed_Data/ethereum_preprocessed_data.csv')\n",
    "\n",
    "print('\\nData analysis process successful!')\n"
   ]
  },
  {
   "cell_type": "code",
   "execution_count": null,
   "metadata": {},
   "outputs": [],
   "source": []
  }
 ],
 "metadata": {
  "kernelspec": {
   "display_name": "Python 3",
   "language": "python",
   "name": "python3"
  },
  "language_info": {
   "codemirror_mode": {
    "name": "ipython",
    "version": 3
   },
   "file_extension": ".py",
   "mimetype": "text/x-python",
   "name": "python",
   "nbconvert_exporter": "python",
   "pygments_lexer": "ipython3",
   "version": "3.6.8"
  }
 },
 "nbformat": 4,
 "nbformat_minor": 2
}
